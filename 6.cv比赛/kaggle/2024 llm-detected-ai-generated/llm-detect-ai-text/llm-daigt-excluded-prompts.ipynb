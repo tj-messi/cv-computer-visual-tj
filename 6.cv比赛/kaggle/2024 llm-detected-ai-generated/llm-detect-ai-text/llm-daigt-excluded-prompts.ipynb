{
 "cells": [
  {
   "cell_type": "markdown",
   "id": "4fc898aa",
   "metadata": {
    "papermill": {
     "duration": 0.010356,
     "end_time": "2024-01-22T20:01:38.393560",
     "exception": false,
     "start_time": "2024-01-22T20:01:38.383204",
     "status": "completed"
    },
    "tags": []
   },
   "source": [
    "> Thanks the idea from https://www.kaggle.com/competitions/llm-detect-ai-generated-text/discussion/467820 to exclude unusable prompts"
   ]
  },
  {
   "cell_type": "code",
   "execution_count": 1,
   "id": "7a917f02",
   "metadata": {
    "execution": {
     "iopub.execute_input": "2024-01-22T20:01:38.416433Z",
     "iopub.status.busy": "2024-01-22T20:01:38.415884Z",
     "iopub.status.idle": "2024-01-22T20:01:49.865982Z",
     "shell.execute_reply": "2024-01-22T20:01:49.864560Z"
    },
    "papermill": {
     "duration": 11.465001,
     "end_time": "2024-01-22T20:01:49.868917",
     "exception": false,
     "start_time": "2024-01-22T20:01:38.403916",
     "status": "completed"
    },
    "tags": []
   },
   "outputs": [],
   "source": [
    "import sys\n",
    "import gc\n",
    "\n",
    "import pandas as pd\n",
    "from sklearn.model_selection import StratifiedKFold\n",
    "import numpy as np\n",
    "from sklearn.metrics import roc_auc_score\n",
    "import numpy as np\n",
    "from lightgbm import LGBMClassifier\n",
    "from sklearn.feature_extraction.text import TfidfVectorizer\n",
    "\n",
    "from tokenizers import (\n",
    "    decoders,\n",
    "    models,\n",
    "    normalizers,\n",
    "    pre_tokenizers,\n",
    "    processors,\n",
    "    trainers,\n",
    "    Tokenizer,\n",
    ")\n",
    "\n",
    "from datasets import Dataset\n",
    "from tqdm.auto import tqdm\n",
    "from transformers import PreTrainedTokenizerFast\n",
    "\n",
    "from sklearn.linear_model import SGDClassifier\n",
    "from sklearn.naive_bayes import MultinomialNB\n",
    "from sklearn.ensemble import VotingClassifier"
   ]
  },
  {
   "cell_type": "code",
   "execution_count": null,
   "id": "2fb61b8e",
   "metadata": {
    "papermill": {
     "duration": 0.010105,
     "end_time": "2024-01-22T20:01:49.888979",
     "exception": false,
     "start_time": "2024-01-22T20:01:49.878874",
     "status": "completed"
    },
    "tags": []
   },
   "outputs": [],
   "source": []
  },
  {
   "cell_type": "code",
   "execution_count": 2,
   "id": "5f7c7378",
   "metadata": {
    "execution": {
     "iopub.execute_input": "2024-01-22T20:01:49.912242Z",
     "iopub.status.busy": "2024-01-22T20:01:49.910656Z",
     "iopub.status.idle": "2024-01-22T20:13:38.949953Z",
     "shell.execute_reply": "2024-01-22T20:13:38.948251Z"
    },
    "papermill": {
     "duration": 709.054292,
     "end_time": "2024-01-22T20:13:38.953346",
     "exception": false,
     "start_time": "2024-01-22T20:01:49.899054",
     "status": "completed"
    },
    "tags": []
   },
   "outputs": [],
   "source": [
    "!python /kaggle/input/tmp123/dt.py"
   ]
  },
  {
   "cell_type": "code",
   "execution_count": 3,
   "id": "140fded6",
   "metadata": {
    "execution": {
     "iopub.execute_input": "2024-01-22T20:13:38.975600Z",
     "iopub.status.busy": "2024-01-22T20:13:38.975075Z",
     "iopub.status.idle": "2024-01-22T20:13:38.987945Z",
     "shell.execute_reply": "2024-01-22T20:13:38.986946Z"
    },
    "papermill": {
     "duration": 0.027085,
     "end_time": "2024-01-22T20:13:38.990577",
     "exception": false,
     "start_time": "2024-01-22T20:13:38.963492",
     "status": "completed"
    },
    "tags": []
   },
   "outputs": [],
   "source": [
    "test = pd.read_csv('/kaggle/working/test_essays1.csv')"
   ]
  },
  {
   "cell_type": "code",
   "execution_count": 4,
   "id": "afc86706",
   "metadata": {
    "execution": {
     "iopub.execute_input": "2024-01-22T20:13:39.014674Z",
     "iopub.status.busy": "2024-01-22T20:13:39.013292Z",
     "iopub.status.idle": "2024-01-22T20:13:41.659497Z",
     "shell.execute_reply": "2024-01-22T20:13:41.658119Z"
    },
    "papermill": {
     "duration": 2.661564,
     "end_time": "2024-01-22T20:13:41.662466",
     "exception": false,
     "start_time": "2024-01-22T20:13:39.000902",
     "status": "completed"
    },
    "tags": []
   },
   "outputs": [],
   "source": [
    "train = pd.read_csv(\"/kaggle/working/train_essays1.csv\", sep=',')"
   ]
  },
  {
   "cell_type": "code",
   "execution_count": null,
   "id": "85fb7630",
   "metadata": {
    "papermill": {
     "duration": 0.009589,
     "end_time": "2024-01-22T20:13:41.681925",
     "exception": false,
     "start_time": "2024-01-22T20:13:41.672336",
     "status": "completed"
    },
    "tags": []
   },
   "outputs": [],
   "source": []
  },
  {
   "cell_type": "code",
   "execution_count": null,
   "id": "0a30664e",
   "metadata": {
    "papermill": {
     "duration": 0.009449,
     "end_time": "2024-01-22T20:13:41.701431",
     "exception": false,
     "start_time": "2024-01-22T20:13:41.691982",
     "status": "completed"
    },
    "tags": []
   },
   "outputs": [],
   "source": []
  },
  {
   "cell_type": "code",
   "execution_count": null,
   "id": "7782d241",
   "metadata": {
    "papermill": {
     "duration": 0.009603,
     "end_time": "2024-01-22T20:13:41.720842",
     "exception": false,
     "start_time": "2024-01-22T20:13:41.711239",
     "status": "completed"
    },
    "tags": []
   },
   "outputs": [],
   "source": []
  },
  {
   "cell_type": "code",
   "execution_count": null,
   "id": "b0f1bed8",
   "metadata": {
    "papermill": {
     "duration": 0.010079,
     "end_time": "2024-01-22T20:13:41.745069",
     "exception": false,
     "start_time": "2024-01-22T20:13:41.734990",
     "status": "completed"
    },
    "tags": []
   },
   "outputs": [],
   "source": []
  },
  {
   "cell_type": "markdown",
   "id": "9a93228a",
   "metadata": {
    "papermill": {
     "duration": 0.014125,
     "end_time": "2024-01-22T20:13:41.772836",
     "exception": false,
     "start_time": "2024-01-22T20:13:41.758711",
     "status": "completed"
    },
    "tags": []
   },
   "source": [
    "### This notebook is based upon the work presented in [this](https://www.kaggle.com/code/datafan07/train-your-own-tokenizer) amazing notebook by [ERTUĞRUL DEMIR](https://www.kaggle.com/datafan07)"
   ]
  },
  {
   "cell_type": "code",
   "execution_count": 5,
   "id": "395f7391",
   "metadata": {
    "execution": {
     "iopub.execute_input": "2024-01-22T20:13:41.801667Z",
     "iopub.status.busy": "2024-01-22T20:13:41.800825Z",
     "iopub.status.idle": "2024-01-22T20:13:41.821386Z",
     "shell.execute_reply": "2024-01-22T20:13:41.820030Z"
    },
    "papermill": {
     "duration": 0.036803,
     "end_time": "2024-01-22T20:13:41.824147",
     "exception": false,
     "start_time": "2024-01-22T20:13:41.787344",
     "status": "completed"
    },
    "tags": []
   },
   "outputs": [],
   "source": [
    "# test = pd.read_csv('/kaggle/input/llm-detect-ai-generated-text/test_essays.csv')\n",
    "sub = pd.read_csv('/kaggle/input/llm-detect-ai-generated-text/sample_submission.csv')\n",
    "# org_train = pd.read_csv('/kaggle/input/llm-detect-ai-generated-text/train_essays.csv')"
   ]
  },
  {
   "cell_type": "code",
   "execution_count": null,
   "id": "c3cdd44a",
   "metadata": {
    "papermill": {
     "duration": 0.009458,
     "end_time": "2024-01-22T20:13:41.843487",
     "exception": false,
     "start_time": "2024-01-22T20:13:41.834029",
     "status": "completed"
    },
    "tags": []
   },
   "outputs": [],
   "source": []
  },
  {
   "cell_type": "code",
   "execution_count": null,
   "id": "17540d07",
   "metadata": {
    "papermill": {
     "duration": 0.009494,
     "end_time": "2024-01-22T20:13:41.862713",
     "exception": false,
     "start_time": "2024-01-22T20:13:41.853219",
     "status": "completed"
    },
    "tags": []
   },
   "outputs": [],
   "source": []
  },
  {
   "cell_type": "markdown",
   "id": "5fc47da8",
   "metadata": {
    "papermill": {
     "duration": 0.009297,
     "end_time": "2024-01-22T20:13:41.881685",
     "exception": false,
     "start_time": "2024-01-22T20:13:41.872388",
     "status": "completed"
    },
    "tags": []
   },
   "source": []
  },
  {
   "cell_type": "code",
   "execution_count": 6,
   "id": "cfd2560b",
   "metadata": {
    "execution": {
     "iopub.execute_input": "2024-01-22T20:13:41.903627Z",
     "iopub.status.busy": "2024-01-22T20:13:41.903169Z",
     "iopub.status.idle": "2024-01-22T20:13:41.997639Z",
     "shell.execute_reply": "2024-01-22T20:13:41.996247Z"
    },
    "papermill": {
     "duration": 0.109652,
     "end_time": "2024-01-22T20:13:42.001076",
     "exception": false,
     "start_time": "2024-01-22T20:13:41.891424",
     "status": "completed"
    },
    "tags": []
   },
   "outputs": [],
   "source": [
    "train = train.drop_duplicates(subset=['correct_text'])\n",
    "train.reset_index(drop=True, inplace=True)"
   ]
  },
  {
   "cell_type": "code",
   "execution_count": 7,
   "id": "d0876229",
   "metadata": {
    "execution": {
     "iopub.execute_input": "2024-01-22T20:13:42.023854Z",
     "iopub.status.busy": "2024-01-22T20:13:42.023324Z",
     "iopub.status.idle": "2024-01-22T20:13:42.065478Z",
     "shell.execute_reply": "2024-01-22T20:13:42.064228Z"
    },
    "papermill": {
     "duration": 0.056524,
     "end_time": "2024-01-22T20:13:42.068201",
     "exception": false,
     "start_time": "2024-01-22T20:13:42.011677",
     "status": "completed"
    },
    "tags": []
   },
   "outputs": [],
   "source": [
    "excluded_prompt_name_list = ['Distance learning','Grades for extracurricular activities','Summer projects']\n",
    "train = train[~(train['prompt_name'].isin(excluded_prompt_name_list))]\n",
    "train = train.drop_duplicates(subset=['correct_text'])\n",
    "train.reset_index(drop=True, inplace=True)"
   ]
  },
  {
   "cell_type": "code",
   "execution_count": 8,
   "id": "f0019016",
   "metadata": {
    "execution": {
     "iopub.execute_input": "2024-01-22T20:13:42.090182Z",
     "iopub.status.busy": "2024-01-22T20:13:42.089682Z",
     "iopub.status.idle": "2024-01-22T20:13:42.095685Z",
     "shell.execute_reply": "2024-01-22T20:13:42.094281Z"
    },
    "papermill": {
     "duration": 0.020004,
     "end_time": "2024-01-22T20:13:42.098369",
     "exception": false,
     "start_time": "2024-01-22T20:13:42.078365",
     "status": "completed"
    },
    "tags": []
   },
   "outputs": [],
   "source": [
    "LOWERCASE = False\n",
    "VOCAB_SIZE = 14000000"
   ]
  },
  {
   "cell_type": "code",
   "execution_count": 9,
   "id": "d7a82d06",
   "metadata": {
    "execution": {
     "iopub.execute_input": "2024-01-22T20:13:42.121626Z",
     "iopub.status.busy": "2024-01-22T20:13:42.121026Z",
     "iopub.status.idle": "2024-01-22T20:16:21.917552Z",
     "shell.execute_reply": "2024-01-22T20:16:21.916068Z"
    },
    "papermill": {
     "duration": 159.811956,
     "end_time": "2024-01-22T20:16:21.920458",
     "exception": false,
     "start_time": "2024-01-22T20:13:42.108502",
     "status": "completed"
    },
    "tags": []
   },
   "outputs": [
    {
     "name": "stdout",
     "output_type": "stream",
     "text": [
      "\n",
      "\n",
      "\n"
     ]
    },
    {
     "data": {
      "application/vnd.jupyter.widget-view+json": {
       "model_id": "bab5b2991afa44658597f4a71a4151dd",
       "version_major": 2,
       "version_minor": 0
      },
      "text/plain": [
       "  0%|          | 0/3 [00:00<?, ?it/s]"
      ]
     },
     "metadata": {},
     "output_type": "display_data"
    },
    {
     "data": {
      "application/vnd.jupyter.widget-view+json": {
       "model_id": "d1f841b49a3d402b900cee5ab29b64f5",
       "version_major": 2,
       "version_minor": 0
      },
      "text/plain": [
       "  0%|          | 0/34497 [00:00<?, ?it/s]"
      ]
     },
     "metadata": {},
     "output_type": "display_data"
    }
   ],
   "source": [
    "# Creating Byte-Pair Encoding tokenizer\n",
    "raw_tokenizer = Tokenizer(models.BPE(unk_token=\"[UNK]\"))\n",
    "# Adding normalization and pre_tokenizer\n",
    "raw_tokenizer.normalizer = normalizers.Sequence([normalizers.NFC()] + [normalizers.Lowercase()] if LOWERCASE else [])\n",
    "raw_tokenizer.pre_tokenizer = pre_tokenizers.ByteLevel()\n",
    "# Adding special tokens and creating trainer instance\n",
    "special_tokens = [\"[UNK]\", \"[PAD]\", \"[CLS]\", \"[SEP]\", \"[MASK]\"]\n",
    "trainer = trainers.BpeTrainer(vocab_size=VOCAB_SIZE, special_tokens=special_tokens)\n",
    "# Creating huggingface dataset object\n",
    "dataset = Dataset.from_pandas(test[['correct_text']])\n",
    "def train_corp_iter(): \n",
    "    for i in range(0, len(dataset), 1000):\n",
    "        yield dataset[i : i + 1000][\"correct_text\"]\n",
    "raw_tokenizer.train_from_iterator(train_corp_iter(), trainer=trainer)\n",
    "tokenizer = PreTrainedTokenizerFast(\n",
    "    tokenizer_object=raw_tokenizer,\n",
    "    unk_token=\"[UNK]\",\n",
    "    pad_token=\"[PAD]\",\n",
    "    cls_token=\"[CLS]\",\n",
    "    sep_token=\"[SEP]\",\n",
    "    mask_token=\"[MASK]\",\n",
    ")\n",
    "tokenized_texts_test = []\n",
    "\n",
    "for text in tqdm(test['correct_text'].tolist()):\n",
    "    tokenized_texts_test.append(tokenizer.tokenize(text))\n",
    "\n",
    "tokenized_texts_train = []\n",
    "\n",
    "for text in tqdm(train['correct_text'].tolist()):\n",
    "    tokenized_texts_train.append(tokenizer.tokenize(text))"
   ]
  },
  {
   "cell_type": "code",
   "execution_count": 10,
   "id": "66b70cf4",
   "metadata": {
    "execution": {
     "iopub.execute_input": "2024-01-22T20:16:21.946811Z",
     "iopub.status.busy": "2024-01-22T20:16:21.946252Z",
     "iopub.status.idle": "2024-01-22T20:16:21.956147Z",
     "shell.execute_reply": "2024-01-22T20:16:21.954790Z"
    },
    "papermill": {
     "duration": 0.027692,
     "end_time": "2024-01-22T20:16:21.959041",
     "exception": false,
     "start_time": "2024-01-22T20:16:21.931349",
     "status": "completed"
    },
    "tags": []
   },
   "outputs": [
    {
     "data": {
      "text/plain": [
       "['ĠBbb', 'Ġccc', 'Ġdid', '.']"
      ]
     },
     "execution_count": 10,
     "metadata": {},
     "output_type": "execute_result"
    }
   ],
   "source": [
    "tokenized_texts_test[1]"
   ]
  },
  {
   "cell_type": "code",
   "execution_count": 11,
   "id": "e377c7b4",
   "metadata": {
    "execution": {
     "iopub.execute_input": "2024-01-22T20:16:21.982875Z",
     "iopub.status.busy": "2024-01-22T20:16:21.982313Z",
     "iopub.status.idle": "2024-01-22T20:16:21.988468Z",
     "shell.execute_reply": "2024-01-22T20:16:21.986736Z"
    },
    "papermill": {
     "duration": 0.021762,
     "end_time": "2024-01-22T20:16:21.991463",
     "exception": false,
     "start_time": "2024-01-22T20:16:21.969701",
     "status": "completed"
    },
    "tags": []
   },
   "outputs": [],
   "source": [
    "def dummy(text):\n",
    "    return text"
   ]
  },
  {
   "cell_type": "code",
   "execution_count": 12,
   "id": "c7d80654",
   "metadata": {
    "execution": {
     "iopub.execute_input": "2024-01-22T20:16:22.015846Z",
     "iopub.status.busy": "2024-01-22T20:16:22.015303Z",
     "iopub.status.idle": "2024-01-22T20:19:28.957388Z",
     "shell.execute_reply": "2024-01-22T20:19:28.956007Z"
    },
    "papermill": {
     "duration": 186.967132,
     "end_time": "2024-01-22T20:19:28.969443",
     "exception": false,
     "start_time": "2024-01-22T20:16:22.002311",
     "status": "completed"
    },
    "tags": []
   },
   "outputs": [
    {
     "name": "stdout",
     "output_type": "stream",
     "text": [
      "{'ĠAaa Ġbbb Ġccc': 0, 'Ġbbb Ġccc .': 6, 'ĠAaa Ġbbb Ġccc .': 1, 'ĠBbb Ġccc Ġdid': 2, 'Ġccc Ġdid .': 7, 'ĠBbb Ġccc Ġdid .': 3, 'ĠCCC Ġdid Ġeee': 4, 'Ġdid Ġeee .': 8, 'ĠCCC Ġdid Ġeee .': 5}\n"
     ]
    },
    {
     "data": {
      "text/plain": [
       "23"
      ]
     },
     "execution_count": 12,
     "metadata": {},
     "output_type": "execute_result"
    }
   ],
   "source": [
    "def dummy(text):\n",
    "    return text\n",
    "\n",
    "vectorizer = TfidfVectorizer(ngram_range=(3, 5), lowercase=False, sublinear_tf=True, analyzer = 'word',\n",
    "    tokenizer = dummy,\n",
    "    preprocessor = dummy,\n",
    "    token_pattern = None, strip_accents='unicode',max_features=4000000)\n",
    "\n",
    "vectorizer.fit(tokenized_texts_test)\n",
    "\n",
    "# Getting vocab\n",
    "vocab = vectorizer.vocabulary_\n",
    "\n",
    "print(vocab)\n",
    "\n",
    "vectorizer = TfidfVectorizer(ngram_range=(3, 5), lowercase=False, sublinear_tf=True, vocabulary=vocab,\n",
    "                            analyzer = 'word',\n",
    "                            tokenizer = dummy,\n",
    "                            preprocessor = dummy,\n",
    "                            token_pattern = None, strip_accents='unicode'\n",
    "                            )\n",
    "\n",
    "tf_train = vectorizer.fit_transform(tokenized_texts_train)\n",
    "tf_test = vectorizer.transform(tokenized_texts_test)\n",
    "\n",
    "del vectorizer\n",
    "gc.collect()"
   ]
  },
  {
   "cell_type": "code",
   "execution_count": 13,
   "id": "66586dea",
   "metadata": {
    "execution": {
     "iopub.execute_input": "2024-01-22T20:19:28.992820Z",
     "iopub.status.busy": "2024-01-22T20:19:28.992352Z",
     "iopub.status.idle": "2024-01-22T20:19:28.997814Z",
     "shell.execute_reply": "2024-01-22T20:19:28.996662Z"
    },
    "papermill": {
     "duration": 0.020401,
     "end_time": "2024-01-22T20:19:29.000404",
     "exception": false,
     "start_time": "2024-01-22T20:19:28.980003",
     "status": "completed"
    },
    "tags": []
   },
   "outputs": [],
   "source": [
    "y_train = train['label'].values"
   ]
  },
  {
   "cell_type": "code",
   "execution_count": 14,
   "id": "6c40af0f",
   "metadata": {
    "execution": {
     "iopub.execute_input": "2024-01-22T20:19:29.024560Z",
     "iopub.status.busy": "2024-01-22T20:19:29.024055Z",
     "iopub.status.idle": "2024-01-22T20:19:29.543854Z",
     "shell.execute_reply": "2024-01-22T20:19:29.542472Z"
    },
    "papermill": {
     "duration": 0.535263,
     "end_time": "2024-01-22T20:19:29.546575",
     "exception": false,
     "start_time": "2024-01-22T20:19:29.011312",
     "status": "completed"
    },
    "tags": []
   },
   "outputs": [
    {
     "name": "stdout",
     "output_type": "stream",
     "text": [
      "VotingClassifier(estimators=[('mnb', MultinomialNB(alpha=0.0225)),\n",
      "                             ('sgd',\n",
      "                              SGDClassifier(loss='modified_huber',\n",
      "                                            max_iter=9000, random_state=6743,\n",
      "                                            tol=0.0001)),\n",
      "                             ('lgb',\n",
      "                              LGBMClassifier(colsample_bynode=0.8,\n",
      "                                             colsample_bytree=0.78,\n",
      "                                             learning_rate=0.00581909898961407,\n",
      "                                             metric='auc', n_iter=3000,\n",
      "                                             objective='cross_entropy',\n",
      "                                             random_state=6743, verbose=-1)),\n",
      "                             ('cat',\n",
      "                              <catboost.core.CatBoostClassifier object at 0x7babfa3fada0>)],\n",
      "                 n_jobs=-1, voting='soft', weights=[0.1, 0.31, 0.28, 0.67])\n"
     ]
    }
   ],
   "source": [
    "def get_model():\n",
    "    from catboost import CatBoostClassifier\n",
    "    from sklearn.linear_model import LogisticRegression\n",
    "\n",
    "#     clf2 = MultinomialNB(alpha=0.01)\n",
    "    clf = MultinomialNB(alpha=0.0225)\n",
    "#     clf2 = MultinomialNB(alpha=0.01)\n",
    "    sgd_model = SGDClassifier(max_iter=9000, tol=1e-4, loss=\"modified_huber\", random_state=6743)\n",
    "#     log_model = LogisticRegression( tol=1e-4,random_state=6743)\n",
    "    p6={'n_iter': 3000,'verbose': -1,'objective': 'cross_entropy','metric': 'auc',\n",
    "        'learning_rate': 0.00581909898961407, 'colsample_bytree': 0.78,\n",
    "        'colsample_bynode': 0.8,\n",
    "#         'lambda_l1': 4.562963348932286, \n",
    "       # 'lambda_l2': 2.97485, 'min_data_in_leaf': 115, 'max_depth': 23, 'max_bin': 898\n",
    "       }\n",
    "    p6[\"random_state\"] = 6743\n",
    "    lgb=LGBMClassifier(**p6)\n",
    "    cat=CatBoostClassifier(iterations=3000,\n",
    "                           verbose=0,\n",
    "                           random_seed=6543,\n",
    "#                            l2_leaf_reg=6.6591278779517808,\n",
    "                           learning_rate=0.005599066836106983,\n",
    "                           subsample = 0.35,\n",
    "                           allow_const_label=True,loss_function = 'CrossEntropy')\n",
    "    weights = [0.1,0.31,0.28,0.67]\n",
    " \n",
    "    ensemble = VotingClassifier(estimators=[('mnb',clf),\n",
    "                                            ('sgd', sgd_model),\n",
    "                                            ('lgb',lgb), \n",
    "                                            ('cat', cat)\n",
    "                                           ],\n",
    "                                weights=weights, voting='soft', n_jobs=-1)\n",
    "    return ensemble\n",
    "\n",
    "model = get_model()\n",
    "print(model)\n",
    "\n",
    "if len(test.text.values) <= 5:\n",
    "    # if not, just sample submission\n",
    "    sub.to_csv('submission.csv', index=False)\n",
    "else:\n",
    "    model.fit(tf_train, y_train)\n",
    "\n",
    "#     gc.collect()\n",
    "\n",
    "    final_preds = model.predict_proba(tf_test)[:,1]\n",
    "    sub['generated'] = final_preds\n",
    "    sub.to_csv('submission.csv', index=False)\n",
    "    sub"
   ]
  },
  {
   "cell_type": "code",
   "execution_count": null,
   "id": "b26b9700",
   "metadata": {
    "papermill": {
     "duration": 0.010481,
     "end_time": "2024-01-22T20:19:29.567779",
     "exception": false,
     "start_time": "2024-01-22T20:19:29.557298",
     "status": "completed"
    },
    "tags": []
   },
   "outputs": [],
   "source": []
  },
  {
   "cell_type": "code",
   "execution_count": null,
   "id": "deea6d99",
   "metadata": {
    "papermill": {
     "duration": 0.010466,
     "end_time": "2024-01-22T20:19:29.588987",
     "exception": false,
     "start_time": "2024-01-22T20:19:29.578521",
     "status": "completed"
    },
    "tags": []
   },
   "outputs": [],
   "source": []
  }
 ],
 "metadata": {
  "kaggle": {
   "accelerator": "none",
   "dataSources": [
    {
     "databundleVersionId": 7516023,
     "sourceId": 61542,
     "sourceType": "competition"
    },
    {
     "datasetId": 4005256,
     "sourceId": 6977472,
     "sourceType": "datasetVersion"
    },
    {
     "datasetId": 4099711,
     "sourceId": 7110479,
     "sourceType": "datasetVersion"
    },
    {
     "datasetId": 4104703,
     "sourceId": 7117339,
     "sourceType": "datasetVersion"
    },
    {
     "datasetId": 4341107,
     "sourceId": 7457977,
     "sourceType": "datasetVersion"
    }
   ],
   "dockerImageVersionId": 30587,
   "isGpuEnabled": false,
   "isInternetEnabled": false,
   "language": "python",
   "sourceType": "notebook"
  },
  "kernelspec": {
   "display_name": "Python 3",
   "language": "python",
   "name": "python3"
  },
  "language_info": {
   "codemirror_mode": {
    "name": "ipython",
    "version": 3
   },
   "file_extension": ".py",
   "mimetype": "text/x-python",
   "name": "python",
   "nbconvert_exporter": "python",
   "pygments_lexer": "ipython3",
   "version": "3.10.12"
  },
  "papermill": {
   "default_parameters": {},
   "duration": 1077.765506,
   "end_time": "2024-01-22T20:19:32.325355",
   "environment_variables": {},
   "exception": null,
   "input_path": "__notebook__.ipynb",
   "output_path": "__notebook__.ipynb",
   "parameters": {},
   "start_time": "2024-01-22T20:01:34.559849",
   "version": "2.4.0"
  },
  "widgets": {
   "application/vnd.jupyter.widget-state+json": {
    "state": {
     "08a77025210a4203975dd414b9e21650": {
      "model_module": "@jupyter-widgets/controls",
      "model_module_version": "1.5.0",
      "model_name": "ProgressStyleModel",
      "state": {
       "_model_module": "@jupyter-widgets/controls",
       "_model_module_version": "1.5.0",
       "_model_name": "ProgressStyleModel",
       "_view_count": null,
       "_view_module": "@jupyter-widgets/base",
       "_view_module_version": "1.2.0",
       "_view_name": "StyleView",
       "bar_color": null,
       "description_width": ""
      }
     },
     "1782b30dd75844cc86e227e315dba99b": {
      "model_module": "@jupyter-widgets/base",
      "model_module_version": "1.2.0",
      "model_name": "LayoutModel",
      "state": {
       "_model_module": "@jupyter-widgets/base",
       "_model_module_version": "1.2.0",
       "_model_name": "LayoutModel",
       "_view_count": null,
       "_view_module": "@jupyter-widgets/base",
       "_view_module_version": "1.2.0",
       "_view_name": "LayoutView",
       "align_content": null,
       "align_items": null,
       "align_self": null,
       "border": null,
       "bottom": null,
       "display": null,
       "flex": null,
       "flex_flow": null,
       "grid_area": null,
       "grid_auto_columns": null,
       "grid_auto_flow": null,
       "grid_auto_rows": null,
       "grid_column": null,
       "grid_gap": null,
       "grid_row": null,
       "grid_template_areas": null,
       "grid_template_columns": null,
       "grid_template_rows": null,
       "height": null,
       "justify_content": null,
       "justify_items": null,
       "left": null,
       "margin": null,
       "max_height": null,
       "max_width": null,
       "min_height": null,
       "min_width": null,
       "object_fit": null,
       "object_position": null,
       "order": null,
       "overflow": null,
       "overflow_x": null,
       "overflow_y": null,
       "padding": null,
       "right": null,
       "top": null,
       "visibility": null,
       "width": null
      }
     },
     "3dfec9cb02de4c4bb1b3ef88a26a597d": {
      "model_module": "@jupyter-widgets/base",
      "model_module_version": "1.2.0",
      "model_name": "LayoutModel",
      "state": {
       "_model_module": "@jupyter-widgets/base",
       "_model_module_version": "1.2.0",
       "_model_name": "LayoutModel",
       "_view_count": null,
       "_view_module": "@jupyter-widgets/base",
       "_view_module_version": "1.2.0",
       "_view_name": "LayoutView",
       "align_content": null,
       "align_items": null,
       "align_self": null,
       "border": null,
       "bottom": null,
       "display": null,
       "flex": null,
       "flex_flow": null,
       "grid_area": null,
       "grid_auto_columns": null,
       "grid_auto_flow": null,
       "grid_auto_rows": null,
       "grid_column": null,
       "grid_gap": null,
       "grid_row": null,
       "grid_template_areas": null,
       "grid_template_columns": null,
       "grid_template_rows": null,
       "height": null,
       "justify_content": null,
       "justify_items": null,
       "left": null,
       "margin": null,
       "max_height": null,
       "max_width": null,
       "min_height": null,
       "min_width": null,
       "object_fit": null,
       "object_position": null,
       "order": null,
       "overflow": null,
       "overflow_x": null,
       "overflow_y": null,
       "padding": null,
       "right": null,
       "top": null,
       "visibility": null,
       "width": null
      }
     },
     "3fd7212135e84aae9594668c47c3b0b3": {
      "model_module": "@jupyter-widgets/controls",
      "model_module_version": "1.5.0",
      "model_name": "DescriptionStyleModel",
      "state": {
       "_model_module": "@jupyter-widgets/controls",
       "_model_module_version": "1.5.0",
       "_model_name": "DescriptionStyleModel",
       "_view_count": null,
       "_view_module": "@jupyter-widgets/base",
       "_view_module_version": "1.2.0",
       "_view_name": "StyleView",
       "description_width": ""
      }
     },
     "3fff376fa5cd446f9c535418baf3b664": {
      "model_module": "@jupyter-widgets/controls",
      "model_module_version": "1.5.0",
      "model_name": "FloatProgressModel",
      "state": {
       "_dom_classes": [],
       "_model_module": "@jupyter-widgets/controls",
       "_model_module_version": "1.5.0",
       "_model_name": "FloatProgressModel",
       "_view_count": null,
       "_view_module": "@jupyter-widgets/controls",
       "_view_module_version": "1.5.0",
       "_view_name": "ProgressView",
       "bar_style": "success",
       "description": "",
       "description_tooltip": null,
       "layout": "IPY_MODEL_5e0783ac2b9d4fe6abe0bedae6c44ad3",
       "max": 34497.0,
       "min": 0.0,
       "orientation": "horizontal",
       "style": "IPY_MODEL_6f30ede91016468a9793118b0092b093",
       "value": 34497.0
      }
     },
     "56cf80b597ee4d24bc6d3d10aec80ee2": {
      "model_module": "@jupyter-widgets/base",
      "model_module_version": "1.2.0",
      "model_name": "LayoutModel",
      "state": {
       "_model_module": "@jupyter-widgets/base",
       "_model_module_version": "1.2.0",
       "_model_name": "LayoutModel",
       "_view_count": null,
       "_view_module": "@jupyter-widgets/base",
       "_view_module_version": "1.2.0",
       "_view_name": "LayoutView",
       "align_content": null,
       "align_items": null,
       "align_self": null,
       "border": null,
       "bottom": null,
       "display": null,
       "flex": null,
       "flex_flow": null,
       "grid_area": null,
       "grid_auto_columns": null,
       "grid_auto_flow": null,
       "grid_auto_rows": null,
       "grid_column": null,
       "grid_gap": null,
       "grid_row": null,
       "grid_template_areas": null,
       "grid_template_columns": null,
       "grid_template_rows": null,
       "height": null,
       "justify_content": null,
       "justify_items": null,
       "left": null,
       "margin": null,
       "max_height": null,
       "max_width": null,
       "min_height": null,
       "min_width": null,
       "object_fit": null,
       "object_position": null,
       "order": null,
       "overflow": null,
       "overflow_x": null,
       "overflow_y": null,
       "padding": null,
       "right": null,
       "top": null,
       "visibility": null,
       "width": null
      }
     },
     "5e0783ac2b9d4fe6abe0bedae6c44ad3": {
      "model_module": "@jupyter-widgets/base",
      "model_module_version": "1.2.0",
      "model_name": "LayoutModel",
      "state": {
       "_model_module": "@jupyter-widgets/base",
       "_model_module_version": "1.2.0",
       "_model_name": "LayoutModel",
       "_view_count": null,
       "_view_module": "@jupyter-widgets/base",
       "_view_module_version": "1.2.0",
       "_view_name": "LayoutView",
       "align_content": null,
       "align_items": null,
       "align_self": null,
       "border": null,
       "bottom": null,
       "display": null,
       "flex": null,
       "flex_flow": null,
       "grid_area": null,
       "grid_auto_columns": null,
       "grid_auto_flow": null,
       "grid_auto_rows": null,
       "grid_column": null,
       "grid_gap": null,
       "grid_row": null,
       "grid_template_areas": null,
       "grid_template_columns": null,
       "grid_template_rows": null,
       "height": null,
       "justify_content": null,
       "justify_items": null,
       "left": null,
       "margin": null,
       "max_height": null,
       "max_width": null,
       "min_height": null,
       "min_width": null,
       "object_fit": null,
       "object_position": null,
       "order": null,
       "overflow": null,
       "overflow_x": null,
       "overflow_y": null,
       "padding": null,
       "right": null,
       "top": null,
       "visibility": null,
       "width": null
      }
     },
     "5f10c59a1174496595b917a22d6f891e": {
      "model_module": "@jupyter-widgets/controls",
      "model_module_version": "1.5.0",
      "model_name": "HTMLModel",
      "state": {
       "_dom_classes": [],
       "_model_module": "@jupyter-widgets/controls",
       "_model_module_version": "1.5.0",
       "_model_name": "HTMLModel",
       "_view_count": null,
       "_view_module": "@jupyter-widgets/controls",
       "_view_module_version": "1.5.0",
       "_view_name": "HTMLView",
       "description": "",
       "description_tooltip": null,
       "layout": "IPY_MODEL_1782b30dd75844cc86e227e315dba99b",
       "placeholder": "​",
       "style": "IPY_MODEL_e204258d55b8497697ad42628464ab59",
       "value": "100%"
      }
     },
     "6f30ede91016468a9793118b0092b093": {
      "model_module": "@jupyter-widgets/controls",
      "model_module_version": "1.5.0",
      "model_name": "ProgressStyleModel",
      "state": {
       "_model_module": "@jupyter-widgets/controls",
       "_model_module_version": "1.5.0",
       "_model_name": "ProgressStyleModel",
       "_view_count": null,
       "_view_module": "@jupyter-widgets/base",
       "_view_module_version": "1.2.0",
       "_view_name": "StyleView",
       "bar_color": null,
       "description_width": ""
      }
     },
     "7a3ba06607ed49ca83aec29714b7c4a6": {
      "model_module": "@jupyter-widgets/controls",
      "model_module_version": "1.5.0",
      "model_name": "HTMLModel",
      "state": {
       "_dom_classes": [],
       "_model_module": "@jupyter-widgets/controls",
       "_model_module_version": "1.5.0",
       "_model_name": "HTMLModel",
       "_view_count": null,
       "_view_module": "@jupyter-widgets/controls",
       "_view_module_version": "1.5.0",
       "_view_name": "HTMLView",
       "description": "",
       "description_tooltip": null,
       "layout": "IPY_MODEL_db41a976794143d899ffe7ac70e0eaf5",
       "placeholder": "​",
       "style": "IPY_MODEL_e3494337f374433d9a94523760b71918",
       "value": " 34497/34497 [02:39&lt;00:00, 190.89it/s]"
      }
     },
     "886f6fb4f4924a02afdc076a9bf04fe0": {
      "model_module": "@jupyter-widgets/base",
      "model_module_version": "1.2.0",
      "model_name": "LayoutModel",
      "state": {
       "_model_module": "@jupyter-widgets/base",
       "_model_module_version": "1.2.0",
       "_model_name": "LayoutModel",
       "_view_count": null,
       "_view_module": "@jupyter-widgets/base",
       "_view_module_version": "1.2.0",
       "_view_name": "LayoutView",
       "align_content": null,
       "align_items": null,
       "align_self": null,
       "border": null,
       "bottom": null,
       "display": null,
       "flex": null,
       "flex_flow": null,
       "grid_area": null,
       "grid_auto_columns": null,
       "grid_auto_flow": null,
       "grid_auto_rows": null,
       "grid_column": null,
       "grid_gap": null,
       "grid_row": null,
       "grid_template_areas": null,
       "grid_template_columns": null,
       "grid_template_rows": null,
       "height": null,
       "justify_content": null,
       "justify_items": null,
       "left": null,
       "margin": null,
       "max_height": null,
       "max_width": null,
       "min_height": null,
       "min_width": null,
       "object_fit": null,
       "object_position": null,
       "order": null,
       "overflow": null,
       "overflow_x": null,
       "overflow_y": null,
       "padding": null,
       "right": null,
       "top": null,
       "visibility": null,
       "width": null
      }
     },
     "b3729d1de35e4a06a6a85310cc066953": {
      "model_module": "@jupyter-widgets/base",
      "model_module_version": "1.2.0",
      "model_name": "LayoutModel",
      "state": {
       "_model_module": "@jupyter-widgets/base",
       "_model_module_version": "1.2.0",
       "_model_name": "LayoutModel",
       "_view_count": null,
       "_view_module": "@jupyter-widgets/base",
       "_view_module_version": "1.2.0",
       "_view_name": "LayoutView",
       "align_content": null,
       "align_items": null,
       "align_self": null,
       "border": null,
       "bottom": null,
       "display": null,
       "flex": null,
       "flex_flow": null,
       "grid_area": null,
       "grid_auto_columns": null,
       "grid_auto_flow": null,
       "grid_auto_rows": null,
       "grid_column": null,
       "grid_gap": null,
       "grid_row": null,
       "grid_template_areas": null,
       "grid_template_columns": null,
       "grid_template_rows": null,
       "height": null,
       "justify_content": null,
       "justify_items": null,
       "left": null,
       "margin": null,
       "max_height": null,
       "max_width": null,
       "min_height": null,
       "min_width": null,
       "object_fit": null,
       "object_position": null,
       "order": null,
       "overflow": null,
       "overflow_x": null,
       "overflow_y": null,
       "padding": null,
       "right": null,
       "top": null,
       "visibility": null,
       "width": null
      }
     },
     "ba0c2abfb3a340b787394713ff272827": {
      "model_module": "@jupyter-widgets/controls",
      "model_module_version": "1.5.0",
      "model_name": "DescriptionStyleModel",
      "state": {
       "_model_module": "@jupyter-widgets/controls",
       "_model_module_version": "1.5.0",
       "_model_name": "DescriptionStyleModel",
       "_view_count": null,
       "_view_module": "@jupyter-widgets/base",
       "_view_module_version": "1.2.0",
       "_view_name": "StyleView",
       "description_width": ""
      }
     },
     "bab5b2991afa44658597f4a71a4151dd": {
      "model_module": "@jupyter-widgets/controls",
      "model_module_version": "1.5.0",
      "model_name": "HBoxModel",
      "state": {
       "_dom_classes": [],
       "_model_module": "@jupyter-widgets/controls",
       "_model_module_version": "1.5.0",
       "_model_name": "HBoxModel",
       "_view_count": null,
       "_view_module": "@jupyter-widgets/controls",
       "_view_module_version": "1.5.0",
       "_view_name": "HBoxView",
       "box_style": "",
       "children": [
        "IPY_MODEL_5f10c59a1174496595b917a22d6f891e",
        "IPY_MODEL_d3d66e0532684ba4b8610a9b2816f69b",
        "IPY_MODEL_be7f71193d6f4933b4e9a33343d18ede"
       ],
       "layout": "IPY_MODEL_f08ae1c9b521441d9a7a9ae6da271118"
      }
     },
     "be7f71193d6f4933b4e9a33343d18ede": {
      "model_module": "@jupyter-widgets/controls",
      "model_module_version": "1.5.0",
      "model_name": "HTMLModel",
      "state": {
       "_dom_classes": [],
       "_model_module": "@jupyter-widgets/controls",
       "_model_module_version": "1.5.0",
       "_model_name": "HTMLModel",
       "_view_count": null,
       "_view_module": "@jupyter-widgets/controls",
       "_view_module_version": "1.5.0",
       "_view_name": "HTMLView",
       "description": "",
       "description_tooltip": null,
       "layout": "IPY_MODEL_56cf80b597ee4d24bc6d3d10aec80ee2",
       "placeholder": "​",
       "style": "IPY_MODEL_3fd7212135e84aae9594668c47c3b0b3",
       "value": " 3/3 [00:00&lt;00:00, 157.12it/s]"
      }
     },
     "d1f841b49a3d402b900cee5ab29b64f5": {
      "model_module": "@jupyter-widgets/controls",
      "model_module_version": "1.5.0",
      "model_name": "HBoxModel",
      "state": {
       "_dom_classes": [],
       "_model_module": "@jupyter-widgets/controls",
       "_model_module_version": "1.5.0",
       "_model_name": "HBoxModel",
       "_view_count": null,
       "_view_module": "@jupyter-widgets/controls",
       "_view_module_version": "1.5.0",
       "_view_name": "HBoxView",
       "box_style": "",
       "children": [
        "IPY_MODEL_d9f2f6a744b641389f063cd9471830ac",
        "IPY_MODEL_3fff376fa5cd446f9c535418baf3b664",
        "IPY_MODEL_7a3ba06607ed49ca83aec29714b7c4a6"
       ],
       "layout": "IPY_MODEL_b3729d1de35e4a06a6a85310cc066953"
      }
     },
     "d3d66e0532684ba4b8610a9b2816f69b": {
      "model_module": "@jupyter-widgets/controls",
      "model_module_version": "1.5.0",
      "model_name": "FloatProgressModel",
      "state": {
       "_dom_classes": [],
       "_model_module": "@jupyter-widgets/controls",
       "_model_module_version": "1.5.0",
       "_model_name": "FloatProgressModel",
       "_view_count": null,
       "_view_module": "@jupyter-widgets/controls",
       "_view_module_version": "1.5.0",
       "_view_name": "ProgressView",
       "bar_style": "success",
       "description": "",
       "description_tooltip": null,
       "layout": "IPY_MODEL_3dfec9cb02de4c4bb1b3ef88a26a597d",
       "max": 3.0,
       "min": 0.0,
       "orientation": "horizontal",
       "style": "IPY_MODEL_08a77025210a4203975dd414b9e21650",
       "value": 3.0
      }
     },
     "d9f2f6a744b641389f063cd9471830ac": {
      "model_module": "@jupyter-widgets/controls",
      "model_module_version": "1.5.0",
      "model_name": "HTMLModel",
      "state": {
       "_dom_classes": [],
       "_model_module": "@jupyter-widgets/controls",
       "_model_module_version": "1.5.0",
       "_model_name": "HTMLModel",
       "_view_count": null,
       "_view_module": "@jupyter-widgets/controls",
       "_view_module_version": "1.5.0",
       "_view_name": "HTMLView",
       "description": "",
       "description_tooltip": null,
       "layout": "IPY_MODEL_886f6fb4f4924a02afdc076a9bf04fe0",
       "placeholder": "​",
       "style": "IPY_MODEL_ba0c2abfb3a340b787394713ff272827",
       "value": "100%"
      }
     },
     "db41a976794143d899ffe7ac70e0eaf5": {
      "model_module": "@jupyter-widgets/base",
      "model_module_version": "1.2.0",
      "model_name": "LayoutModel",
      "state": {
       "_model_module": "@jupyter-widgets/base",
       "_model_module_version": "1.2.0",
       "_model_name": "LayoutModel",
       "_view_count": null,
       "_view_module": "@jupyter-widgets/base",
       "_view_module_version": "1.2.0",
       "_view_name": "LayoutView",
       "align_content": null,
       "align_items": null,
       "align_self": null,
       "border": null,
       "bottom": null,
       "display": null,
       "flex": null,
       "flex_flow": null,
       "grid_area": null,
       "grid_auto_columns": null,
       "grid_auto_flow": null,
       "grid_auto_rows": null,
       "grid_column": null,
       "grid_gap": null,
       "grid_row": null,
       "grid_template_areas": null,
       "grid_template_columns": null,
       "grid_template_rows": null,
       "height": null,
       "justify_content": null,
       "justify_items": null,
       "left": null,
       "margin": null,
       "max_height": null,
       "max_width": null,
       "min_height": null,
       "min_width": null,
       "object_fit": null,
       "object_position": null,
       "order": null,
       "overflow": null,
       "overflow_x": null,
       "overflow_y": null,
       "padding": null,
       "right": null,
       "top": null,
       "visibility": null,
       "width": null
      }
     },
     "e204258d55b8497697ad42628464ab59": {
      "model_module": "@jupyter-widgets/controls",
      "model_module_version": "1.5.0",
      "model_name": "DescriptionStyleModel",
      "state": {
       "_model_module": "@jupyter-widgets/controls",
       "_model_module_version": "1.5.0",
       "_model_name": "DescriptionStyleModel",
       "_view_count": null,
       "_view_module": "@jupyter-widgets/base",
       "_view_module_version": "1.2.0",
       "_view_name": "StyleView",
       "description_width": ""
      }
     },
     "e3494337f374433d9a94523760b71918": {
      "model_module": "@jupyter-widgets/controls",
      "model_module_version": "1.5.0",
      "model_name": "DescriptionStyleModel",
      "state": {
       "_model_module": "@jupyter-widgets/controls",
       "_model_module_version": "1.5.0",
       "_model_name": "DescriptionStyleModel",
       "_view_count": null,
       "_view_module": "@jupyter-widgets/base",
       "_view_module_version": "1.2.0",
       "_view_name": "StyleView",
       "description_width": ""
      }
     },
     "f08ae1c9b521441d9a7a9ae6da271118": {
      "model_module": "@jupyter-widgets/base",
      "model_module_version": "1.2.0",
      "model_name": "LayoutModel",
      "state": {
       "_model_module": "@jupyter-widgets/base",
       "_model_module_version": "1.2.0",
       "_model_name": "LayoutModel",
       "_view_count": null,
       "_view_module": "@jupyter-widgets/base",
       "_view_module_version": "1.2.0",
       "_view_name": "LayoutView",
       "align_content": null,
       "align_items": null,
       "align_self": null,
       "border": null,
       "bottom": null,
       "display": null,
       "flex": null,
       "flex_flow": null,
       "grid_area": null,
       "grid_auto_columns": null,
       "grid_auto_flow": null,
       "grid_auto_rows": null,
       "grid_column": null,
       "grid_gap": null,
       "grid_row": null,
       "grid_template_areas": null,
       "grid_template_columns": null,
       "grid_template_rows": null,
       "height": null,
       "justify_content": null,
       "justify_items": null,
       "left": null,
       "margin": null,
       "max_height": null,
       "max_width": null,
       "min_height": null,
       "min_width": null,
       "object_fit": null,
       "object_position": null,
       "order": null,
       "overflow": null,
       "overflow_x": null,
       "overflow_y": null,
       "padding": null,
       "right": null,
       "top": null,
       "visibility": null,
       "width": null
      }
     }
    },
    "version_major": 2,
    "version_minor": 0
   }
  }
 },
 "nbformat": 4,
 "nbformat_minor": 5
}
