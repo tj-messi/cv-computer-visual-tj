{
 "cells": [
  {
   "cell_type": "markdown",
   "id": "68c2dc9e",
   "metadata": {},
   "source": [
    "# 读取两个npz文件格式"
   ]
  },
  {
   "cell_type": "code",
   "execution_count": 1,
   "id": "57ed8029",
   "metadata": {},
   "outputs": [
    {
     "name": "stdout",
     "output_type": "stream",
     "text": [
      "visium ST data shape: (676, 32285)\n",
      "visiumhd ST data shape: (676, 8049)\n"
     ]
    }
   ],
   "source": [
    "import numpy as np\n",
    "from scipy.sparse import load_npz\n",
    "\n",
    "# 假设文件名为 file1.npz 和 file2.npz\n",
    "visium_npz = '/media/cbtil/T7 Shield/NMI/data/Visium_mouse_brain/spot_ST/extract/20220329/0_1/spot_ST.npz'\n",
    "visiumhd_npz = '/media/cbtil/T7 Shield/NMI/data/Visiumhdmousebrain4_8/spot_ST/extract/20240917mousebrain/0_0/spot_ST.npz'\n",
    "\n",
    "# 加载两个 npz 文件 加载稀疏矩阵\n",
    "visium = load_npz(visium_npz)\n",
    "visiumhd = load_npz(visiumhd_npz)\n",
    "  \n",
    "visium = visium.toarray()  # 转为密集矩阵\n",
    "visiumhd = visiumhd.toarray() \n",
    "print(\"visium ST data shape:\", visium.shape)\n",
    "print(\"visiumhd ST data shape:\", visiumhd.shape)\n",
    "\n",
    "reshaped_visium = visium.reshape(26,26,-1) # 26,26,32285\n",
    "reshaped_visiumhd = visiumhd.reshape(26,26,-1) # 26,26,8049\n",
    "\n",
    "\n"
   ]
  },
  {
   "cell_type": "markdown",
   "id": "1fe2b29c",
   "metadata": {},
   "source": [
    "# 读取visiumhd 和 visium 的基因列表"
   ]
  },
  {
   "cell_type": "code",
   "execution_count": 2,
   "id": "13d21007",
   "metadata": {},
   "outputs": [
    {
     "name": "stdout",
     "output_type": "stream",
     "text": [
      "32285\n",
      "8049\n"
     ]
    }
   ],
   "source": [
    "import pandas as pd\n",
    "\n",
    "# 读取 CSV 文件\n",
    "visisum_list = pd.read_csv('/media/cbtil/T7 Shield/NMI/data/Visium_mouse_brain/gene_groups.csv')\n",
    "# 获取第一列并转换为列表\n",
    "visium_list = visisum_list.iloc[:, 0].tolist()\n",
    "# 打印结果\n",
    "print(len(visium_list))\n",
    "\n",
    "visiumhd_list = []\n",
    "# 打开并读取 txt 文件\n",
    "with open('/media/cbtil/T7 Shield/NMI/data/Visiumhdmousebrain4_8/gene_names.txt', 'r') as file:\n",
    "    visiumhd_line = file.readlines()\n",
    "    lines = [line.strip() for line in visiumhd_line if line.strip() != '']\n",
    "    visiumhd_list = lines\n",
    "    \n",
    "# 打印结果\n",
    "print(len(visiumhd_list))\n",
    "\n"
   ]
  },
  {
   "cell_type": "markdown",
   "id": "74f4b50e",
   "metadata": {},
   "source": [
    "# 模式匹配 （从visiumhd(8049) -> visium(32285)）"
   ]
  },
  {
   "cell_type": "code",
   "execution_count": 5,
   "id": "9c0206b8",
   "metadata": {},
   "outputs": [
    {
     "name": "stdout",
     "output_type": "stream",
     "text": [
      "未匹配的内容：\n",
      "['Aldoa_1', 'Arhgef4_1', 'Pakap_1', 'Pakap_2', 'Fam220a_2']\n",
      "未匹配内容在 visiumhd_list 中的索引：\n",
      "[100, 1503, 4121, 4655, 6214]\n"
     ]
    }
   ],
   "source": [
    "# 创建一个字典，用于存储 visisum_list 中每个元素的索引\n",
    "visium_index_map = {value: idx for idx, value in enumerate(visium_list)}\n",
    "\n",
    "# 创建一个空列表来存储 visiumhd_list 中每个元素的索引（如果存在）或者 -1\n",
    "result_indices = []\n",
    "unmatched_items = []\n",
    "\n",
    "# 遍历 visiumhd_list，检查每个元素是否存在于 visium_index_map 中\n",
    "for item in visiumhd_list:\n",
    "    index = visium_index_map.get(item, -1)  # 如果找到，返回索引，否则返回 -1\n",
    "    if index == -1:\n",
    "        unmatched_items.append(item)  # 记录未匹配到的项\n",
    "    result_indices.append(index)\n",
    "\n",
    "# 打印匹配不上的内容\n",
    "print(\"未匹配的内容：\")\n",
    "print(unmatched_items)\n",
    "\n",
    "# 未匹配的内容：\n",
    "# ['Aldoa_1', 'Arhgef4_1', 'Pakap_1', 'Pakap_2', 'Fam220a_2']\n",
    "\n",
    "unmatched_indices_in_visiumhd = []\n",
    "for item in unmatched_items:\n",
    "    # 获取未匹配项在 visiumhd_list 中的索引\n",
    "    unmatched_indices_in_visiumhd.append(visiumhd_list.index(item))\n",
    "\n",
    "# 打印未匹配内容的索引\n",
    "print(\"未匹配内容在 visiumhd_list 中的索引：\")\n",
    "print(unmatched_indices_in_visiumhd)\n"
   ]
  },
  {
   "cell_type": "markdown",
   "id": "5e9d8319",
   "metadata": {},
   "source": [
    "# 修改visium的32285到前8049让他们匹配上"
   ]
  },
  {
   "cell_type": "code",
   "execution_count": null,
   "id": "ac465477",
   "metadata": {},
   "outputs": [
    {
     "name": "stdout",
     "output_type": "stream",
     "text": [
      "Matched visiumhd shape: (26, 26, 8049)\n",
      "未匹配的通道索引：\n",
      "[100, 1503, 4121, 4655, 6214]\n"
     ]
    }
   ],
   "source": [
    "matched_visium = np.full_like(reshaped_visiumhd, 0)  # 初始化匹配矩阵，默认值是 0\n",
    "\n",
    "# 遍历 visiumhd 中每个通道，并通过映射表进行匹配\n",
    "for i in range(reshaped_visiumhd.shape[2]):\n",
    "    # 获取 visiumhd 中当前通道的映射索引\n",
    "    index = result_indices[i]  # 假设 result_indices[i] 是 visium 中对应通道的索引\n",
    "    \n",
    "    if index != -1:\n",
    "        # 如果找到了匹配，将 visiumhd 中的通道值替换为 visium 中的对应通道值\n",
    "        matched_visium[..., i] = reshaped_visium[..., index]\n",
    "        \n",
    "# 打印匹配后的 visiumhd 的形状\n",
    "print(\"Matched visiumhd shape:\", matched_visium.shape)\n",
    "\n",
    "# 检测 matched_visium 中哪些通道没有匹配上\n",
    "unmatched_channels = []\n",
    "\n",
    "# 遍历 matched_visium 的每个通道\n",
    "for i in range(matched_visium.shape[2]):\n",
    "    # 如果该通道的所有元素都是 -1，说明该通道没有匹配\n",
    "    if np.all(matched_visium[..., i] == -1):\n",
    "        unmatched_channels.append(i)\n",
    "\n",
    "# 输出未匹配的通道索引\n",
    "print(\"未匹配的通道索引：\")\n",
    "print(unmatched_channels)\n"
   ]
  },
  {
   "cell_type": "markdown",
   "id": "70925ab6",
   "metadata": {},
   "source": [
    "# 遍历匹配Visium的spot st下所有batch的npz"
   ]
  },
  {
   "cell_type": "code",
   "execution_count": 7,
   "id": "4f421560",
   "metadata": {},
   "outputs": [
    {
     "name": "stdout",
     "output_type": "stream",
     "text": [
      "Processed and saved: /media/cbtil/T7 Shield/NMI/data/Visium_mouse_brain_matched/spot_ST/extract/20240917mousebrain/0_0/spot_ST_matched.npz\n",
      "Processed and saved: /media/cbtil/T7 Shield/NMI/data/Visium_mouse_brain_matched/spot_ST/extract/20240917mousebrain/0_1/spot_ST_matched.npz\n",
      "Processed and saved: /media/cbtil/T7 Shield/NMI/data/Visium_mouse_brain_matched/spot_ST/extract/20240917mousebrain/0_2/spot_ST_matched.npz\n",
      "Processed and saved: /media/cbtil/T7 Shield/NMI/data/Visium_mouse_brain_matched/spot_ST/extract/20240917mousebrain/1_0/spot_ST_matched.npz\n",
      "Processed and saved: /media/cbtil/T7 Shield/NMI/data/Visium_mouse_brain_matched/spot_ST/extract/20240917mousebrain/1_1/spot_ST_matched.npz\n",
      "Processed and saved: /media/cbtil/T7 Shield/NMI/data/Visium_mouse_brain_matched/spot_ST/extract/20240917mousebrain/1_2/spot_ST_matched.npz\n",
      "Processed and saved: /media/cbtil/T7 Shield/NMI/data/Visium_mouse_brain_matched/spot_ST/extract/20240917mousebrain/2_0/spot_ST_matched.npz\n",
      "Processed and saved: /media/cbtil/T7 Shield/NMI/data/Visium_mouse_brain_matched/spot_ST/extract/20240917mousebrain/2_1/spot_ST_matched.npz\n",
      "Processed and saved: /media/cbtil/T7 Shield/NMI/data/Visium_mouse_brain_matched/spot_ST/extract/20240917mousebrain/2_2/spot_ST_matched.npz\n",
      "Processed and saved: /media/cbtil/T7 Shield/NMI/data/Visium_mouse_brain_matched/spot_ST/extract/20240917mousebrain/3_0/spot_ST_matched.npz\n",
      "Processed and saved: /media/cbtil/T7 Shield/NMI/data/Visium_mouse_brain_matched/spot_ST/extract/20240917mousebrain/3_1/spot_ST_matched.npz\n",
      "Processed and saved: /media/cbtil/T7 Shield/NMI/data/Visium_mouse_brain_matched/spot_ST/extract/20240917mousebrain/3_2/spot_ST_matched.npz\n",
      "Processed and saved: /media/cbtil/T7 Shield/NMI/data/Visium_mouse_brain_matched/spot_ST/extract/20240917mousebrain/4_0/spot_ST_matched.npz\n",
      "Processed and saved: /media/cbtil/T7 Shield/NMI/data/Visium_mouse_brain_matched/spot_ST/extract/20240917mousebrain/4_1/spot_ST_matched.npz\n",
      "Processed and saved: /media/cbtil/T7 Shield/NMI/data/Visium_mouse_brain_matched/spot_ST/extract/20240917mousebrain/4_2/spot_ST_matched.npz\n",
      "Processed and saved: /media/cbtil/T7 Shield/NMI/data/Visium_mouse_brain_matched/spot_ST/extract/20240917mousebrain/5_0/spot_ST_matched.npz\n",
      "Processed and saved: /media/cbtil/T7 Shield/NMI/data/Visium_mouse_brain_matched/spot_ST/extract/20240917mousebrain/5_1/spot_ST_matched.npz\n",
      "Processed and saved: /media/cbtil/T7 Shield/NMI/data/Visium_mouse_brain_matched/spot_ST/extract/20240917mousebrain/5_2/spot_ST_matched.npz\n"
     ]
    }
   ],
   "source": [
    "import os\n",
    "import numpy as np\n",
    "from scipy.sparse import load_npz\n",
    "from pathlib import Path\n",
    "\n",
    "# 根目录路径\n",
    "root_dir = '/media/cbtil/T7 Shield/NMI/data/Visiumhdmousebrain4_8/spot_ST/extract/20240917mousebrain'\n",
    "\n",
    "# 新目录的根路径\n",
    "output_root_dir = root_dir.replace(\"Visiumhdmousebrain4_8\", \"Visium_mouse_brain_matched\")\n",
    "\n",
    "# 创建新的根目录\n",
    "Path(output_root_dir).mkdir(parents=True, exist_ok=True)\n",
    "\n",
    "# 遍历所有子文件夹\n",
    "for subdir, dirs, files in os.walk(root_dir):\n",
    "    # 检查是否有 'spot_ST.npz' 文件\n",
    "    if 'spot_ST.npz' in files:\n",
    "        # 构建当前文件的完整路径\n",
    "        input_file_path = os.path.join(subdir, 'spot_ST.npz')\n",
    "        \n",
    "        # 加载 npz 文件\n",
    "        visiumhd = load_npz(input_file_path)\n",
    "        visiumhd_array = visiumhd.toarray()\n",
    "\n",
    "        # 假设我们已经有了匹配的索引 (result_indices)，以及 reshaped_visium 数据\n",
    "        reshaped_visiumhd = visiumhd_array.reshape(26, 26, -1)  # 26,26,8049\n",
    "        matched_visium = np.full_like(reshaped_visiumhd, -1)  # 初始化匹配矩阵，默认值是 -1\n",
    "\n",
    "        # 遍历 visiumhd 中每个通道，并通过映射表进行匹配\n",
    "        for i in range(reshaped_visiumhd.shape[2]):\n",
    "            index = result_indices[i]  # 假设 result_indices[i] 是 visium 中对应通道的索引\n",
    "            if index != -1:\n",
    "                # 如果找到了匹配，将 visiumhd 中的通道值替换为 visium 中的对应通道值\n",
    "                matched_visium[..., i] = reshaped_visium[..., index]\n",
    "\n",
    "        # 构建输出文件路径（创建新的文件夹）\n",
    "        subdir_relative_path = os.path.relpath(subdir, root_dir)\n",
    "        output_subdir = os.path.join(output_root_dir, subdir_relative_path)\n",
    "        Path(output_subdir).mkdir(parents=True, exist_ok=True)\n",
    "        \n",
    "        # 输出路径\n",
    "        output_file_path = os.path.join(output_subdir, 'spot_ST_matched.npz')\n",
    "        \n",
    "        # 保存匹配后的数据\n",
    "        np.savez_compressed(output_file_path, matched_visium)\n",
    "        \n",
    "        print(f\"Processed and saved: {output_file_path}\")\n"
   ]
  }
 ],
 "metadata": {
  "kernelspec": {
   "display_name": "ldm",
   "language": "python",
   "name": "python3"
  },
  "language_info": {
   "codemirror_mode": {
    "name": "ipython",
    "version": 3
   },
   "file_extension": ".py",
   "mimetype": "text/x-python",
   "name": "python",
   "nbconvert_exporter": "python",
   "pygments_lexer": "ipython3",
   "version": "3.8.5"
  }
 },
 "nbformat": 4,
 "nbformat_minor": 5
}
